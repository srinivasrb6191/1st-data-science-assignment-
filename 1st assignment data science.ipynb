{
 "cells": [
  {
   "cell_type": "code",
   "execution_count": 1,
   "id": "4f57b228",
   "metadata": {},
   "outputs": [
    {
     "data": {
      "text/plain": [
       "'In Python, object-oriented Programming (OOPs) is a programming concept that uses objects and classes in programming. \\nIt aims to implement real-world entities like inheritance, polymorphisms, encapsulation, data abstraction,metod overriding etc\\nin the programming. \\nThe main concept of OOPs is to bind the data and the functions that work on that together as a single unit\\nso that no other part of the code can access this data.'"
      ]
     },
     "execution_count": 1,
     "metadata": {},
     "output_type": "execute_result"
    }
   ],
   "source": [
    "##What is the primary goal of Object-Oriented Programming (OOP)?\n",
    "\"\"\"In Python, object-oriented Programming (OOPs) is a programming concept that uses objects and classes in programming. \n",
    "It aims to implement real-world entities like inheritance, polymorphisms, encapsulation, data abstraction,metod overriding etc\n",
    "in the programming. \n",
    "The main concept of OOPs is to bind the data and the functions that work on that together as a single unit\n",
    "so that no other part of the code can access this data.\"\"\"\n",
    "\n"
   ]
  },
  {
   "cell_type": "code",
   "execution_count": 2,
   "id": "820e6c4e",
   "metadata": {},
   "outputs": [
    {
     "data": {
      "text/plain": [
       "'The object is an entity that has a state and behavior associated with it. \\nIt may be any real-world object like a mouse, keyboard, chair, table, pen, etc. \\nIntegers, strings, floating-point numbers, even arrays, and dictionaries, are all objects. \\nMore specifically, any single integer or any single string is an object. The number 20 is an object, \\nthe string “Hello” is an object, a list is an object that can hold other objects, and so on.'"
      ]
     },
     "execution_count": 2,
     "metadata": {},
     "output_type": "execute_result"
    }
   ],
   "source": [
    "##What is an object in Python?\n",
    "\"\"\"The object is an entity that has a state and behavior associated with it. \n",
    "It may be any real-world object like a mouse, keyboard, chair, table, pen, etc. \n",
    "Integers, strings, floating-point numbers, even arrays, and dictionaries, are all objects. \n",
    "More specifically, any single integer or any single string is an object. The number 20 is an object, \n",
    "the string “Hello” is an object, a list is an object that can hold other objects, and so on.\"\"\"\n"
   ]
  },
  {
   "cell_type": "code",
   "execution_count": 3,
   "id": "eb162bab",
   "metadata": {},
   "outputs": [
    {
     "name": "stdout",
     "output_type": "stream",
     "text": [
      "The color of cat is 'Red'\n"
     ]
    }
   ],
   "source": [
    "#1.State: It is represented by the attributes of an object. It also reflects the properties of an object.\n",
    "#2.Behavior: It is represented by the methods of an object. It also reflects the response of an object to other objects.\n",
    "#3.Identity: It gives a unique name to an object and enables one object to interact with other objects.\n",
    "    \n",
    "# for example\n",
    "\n",
    "class cat:\n",
    "    def cat_color(self,color):           \n",
    "        self.color = color\n",
    "        print(f\"The color of cat is '{self.color}'\")\n",
    "        \n",
    "puppy = cat()               # state here is color attribute\n",
    "puppy.cat_color(\"Red\")      # its behavior is based on its method  \n",
    "                            # identity here is puppy"
   ]
  },
  {
   "cell_type": "code",
   "execution_count": 4,
   "id": "eb3f3a78",
   "metadata": {},
   "outputs": [
    {
     "name": "stdout",
     "output_type": "stream",
     "text": [
      "The color of cat is 'Red'\n",
      "The age of cat is 10\n",
      "The breed of cat is 'Hybrid'\n"
     ]
    }
   ],
   "source": [
    "##What is a class in Python?\n",
    "\"\"\"\n",
    "A class is a collection of objects. A class contains the blueprints or the prototype from which the objects are being created. \n",
    "It is a logical entity that contains some attributes and methods. \"\"\"\n",
    "\n",
    "# if there are 100 cats which are differentiated based on its breed,age...\n",
    "# list of cat  may contain either age or color or breed as its first element.\n",
    "# classes hepls in this organization.\n",
    "# for example\n",
    "class cat:\n",
    "    def cat_color(self,color):           \n",
    "        self.color = color\n",
    "        print(f\"The color of cat is '{self.color}'\")\n",
    "        \n",
    "    def cat_age(self,age):\n",
    "        self.age = age\n",
    "        print(f\"The age of cat is {self.age}\")\n",
    "        \n",
    "    def cat_breed(self,breed): \n",
    "        self.breed = breed\n",
    "        print(f\"The breed of cat is '{self.breed}'\")\n",
    "puppy = cat()         \n",
    "puppy.cat_color(\"Red\")\n",
    "puppy.cat_age('10')\n",
    "puppy.cat_breed('Hybrid')"
   ]
  },
  {
   "cell_type": "code",
   "execution_count": null,
   "id": "ac94194d",
   "metadata": {},
   "outputs": [],
   "source": [
    "##What are attributes and methods in a class?\n",
    "Attributes of a class are function objects that define corresponding methods.\n",
    "#They are used to implement access controls of the classes.\n",
    "#Attributes of a class can also be accessed using the following built-in methods and functions :\n",
    "\n",
    "#1.getattr() – This function is used to access the attribute of object.\n",
    "#2.hasattr() – This function is used to check if an attribute exist or not.\n",
    "#3.setattr() – This function is used to set an attribute. If the attribute does not exist, then it would be created.\n",
    "#4.delattr() – This function is used to delete an attribute. \n",
    "               #If you are accessing the attribute after deleting it raises error “class has no attribute”."
   ]
  },
  {
   "cell_type": "code",
   "execution_count": 2,
   "id": "6687e2b2",
   "metadata": {},
   "outputs": [
    {
     "name": "stdout",
     "output_type": "stream",
     "text": [
      "Hello World!\n"
     ]
    }
   ],
   "source": [
    "\"\"\"method: A function which is defined inside a class body. If called as an attribute of an instance of that class,\n",
    "the method will get the instance object as its first argument (which is usually called self).\"\"\"\n",
    "# for example\n",
    "#A method is an attribute, but not all attributes are methods. For example, if we have the class\n",
    "\n",
    "class MyClass(object):   # class\n",
    "\n",
    "    class_name = 'My Class' #attributes\n",
    "\n",
    "    def my_method(self):        #method\n",
    "        print('Hello World!')  \n",
    "obj1 = MyClass()\n",
    "obj1.my_method()\n",
    "# This class has two attributes, class_name and my_method. But only my_method is a method. \n",
    "# Methods are functions that belong to your object. There are additional hidden attributes present on all classes  "
   ]
  },
  {
   "cell_type": "code",
   "execution_count": 7,
   "id": "0bc0ff94",
   "metadata": {},
   "outputs": [
    {
     "name": "stdout",
     "output_type": "stream",
     "text": [
      "Its very dangerous found in 'jim corbet forest'\n",
      "Its color is : orange\n",
      "Its name is : shera\n"
     ]
    },
    {
     "data": {
      "text/plain": [
       "\"Here instance variable 'location' changes but name and color declared as class variable remains same throughout the program \\nuntill we change it'\""
      ]
     },
     "execution_count": 7,
     "metadata": {},
     "output_type": "execute_result"
    }
   ],
   "source": [
    "##What is the difference between class variables and instance variables in Python?\n",
    "\n",
    "\"\"\"In object-oriented programming, variables at the class level are referred to as class variables,\n",
    "whereas variables at the object level are called instance variables.\n",
    "This differentiation allows us to use class variables to initialize objects with a specific value assigned to variables, \n",
    "and use different variables for each object with instance variables.\"\"\"\n",
    "# for example;\n",
    "class tiger:\n",
    "    tiger_name = 'shera'   # these two are class variables\n",
    "    tiger_color = 'orange'\n",
    "    \n",
    "    def __init__(self,location):   #constructor\n",
    "        self.location = location  # here location is instance variable at object level\n",
    "        \n",
    "    def tiger_type(self):\n",
    "        print(f\"Its very dangerous found in '{self.location}'\")  #accessing the location variable\n",
    "\n",
    "def main():        \n",
    "    animal = tiger('jim corbet forest')\n",
    "    animal.tiger_type()\n",
    "    print(\"Its color is :\",animal.tiger_color)   \n",
    "    print(\"Its name is :\",animal.tiger_name)\n",
    "    \n",
    "if __name__ == \"__main__\":\n",
    "    main()\n",
    "    \n",
    "\"\"\"Here instance variable 'location' changes but name and color declared as class variable remains same throughout the program \n",
    "untill we change it'\"\"\""
   ]
  },
  {
   "cell_type": "code",
   "execution_count": 8,
   "id": "14530cf2",
   "metadata": {},
   "outputs": [
    {
     "name": "stdout",
     "output_type": "stream",
     "text": [
      "Student name is 'Divya' and her age is '32'\n",
      "Student name is 'Divya' and her age is '32'\n",
      "Student name is 'Ramya' and her age is '33'\n",
      "we have used another parameter name in place of self\n"
     ]
    }
   ],
   "source": [
    "##What is the purpose of the self parameter in Python class methods?\n",
    "\n",
    "\"\"\"self is parameter in Instance Method and user can use another parameter name in place of it. \n",
    "   But it is advisable to use self because it increases the readability of code, and it is also a good programming practice.\"\"\"\n",
    "#example1\n",
    "class person:\n",
    "    def __init__(self,name,age):\n",
    "        self.name = name           # here self is a pointer towards class.objects can access variables by self parsmeter \n",
    "        self.age = age\n",
    "        \n",
    "    def student(self):     \n",
    "        print(f\"Student name is '{self.name}' and her age is '{self.age}'\")\n",
    "\n",
    "divya = person('Divya',32)\n",
    "divya.student()\n",
    "ramya = person('Ramya',33)   \n",
    "# here self and obj(divya)passed as an argument to the student method are showing the same result.\n",
    "person.student(divya) \n",
    "person.student(ramya)\n",
    "# example 2\n",
    "class my_class: \n",
    "    def __init__(in_place_of_self): \n",
    "        print(\"we have used another \"\n",
    "        \"parameter name in place of self\")  # we can use any variable name in place of self\n",
    "          \n",
    "object = my_class() "
   ]
  },
  {
   "cell_type": "code",
   "execution_count": 9,
   "id": "8b4293ba",
   "metadata": {},
   "outputs": [
    {
     "name": "stdout",
     "output_type": "stream",
     "text": [
      "Enter the copies:1000\n",
      "Demand in supply\n",
      "Now the available copies after returning the book are: 1001\n",
      "The title of the book is: 'A Tale of Two Cities'\n",
      "The author name is : 'Charles Dickens'\n",
      "The isbn of book is :9780747532743\n",
      "publication year :1859\n",
      "The total copies avialable are : 1001\n"
     ]
    }
   ],
   "source": [
    "## 7th question\n",
    "class Book:\n",
    "    def __init__(self,title,author,isbn,publication_year,available_copies):\n",
    "        self.title = title\n",
    "        self.author = author\n",
    "        self.isbn = isbn\n",
    "        self.publication_year = publication_year\n",
    "        self.available_copies = available_copies\n",
    "    def check_out(self):\n",
    "        self.available_copies = int(input(\"Enter the copies:\"))\n",
    "        if self.available_copies <= 100:\n",
    "            self.available_copies -= 1\n",
    "            print(f\"The available copies after supply are :{self.available_copies}\")\n",
    "        else:\n",
    "            print(\"Demand in supply\")\n",
    "            \n",
    "    def return_book(self):\n",
    "        self.available_copies += 1\n",
    "        print(f\"Now the available copies after returning the book are: {self.available_copies}\")\n",
    "        \n",
    "    def display_book_info(self):\n",
    "        print(f\"The title of the book is: '{self.title}'\")\n",
    "        print(f\"The author name is : '{self.author}'\")\n",
    "        print(f\"The isbn of book is :{self.isbn}\")\n",
    "        print(f\"publication year :{self.publication_year}\")\n",
    "        print(f\"The total copies avialable are : {self.available_copies}\")\n",
    "            \n",
    "book1 = Book('A Tale of Two Cities','Charles Dickens',9780747532743,'1859',200) \n",
    "book1.check_out()\n",
    "book1.return_book()\n",
    "book1.display_book_info() "
   ]
  },
  {
   "cell_type": "code",
   "execution_count": 10,
   "id": "ba6010a4",
   "metadata": {},
   "outputs": [
    {
     "name": "stdout",
     "output_type": "stream",
     "text": [
      "Tickets are reserved...Try later\n",
      "cancel the reservation for this '16089' ticket_id\n",
      "Train ticket_id is: '16089'\n",
      "event_name: 'Summer vacation'\n",
      "event_date: '12/07/2023'\n",
      "venue : 'Chennai'\n",
      "seat_number : '23'\n",
      "price : 200\n",
      "Is,ticket reserved : True\n"
     ]
    }
   ],
   "source": [
    "#question 8\n",
    "class Ticket:\n",
    "    def __init__(self,ticket_id,event_name,event_date,venue,seat_number,price,is_reserved):\n",
    "        self.ticket_id = ticket_id\n",
    "        self.event_name = event_name\n",
    "        self.event_date = event_date\n",
    "        self.venue = venue\n",
    "        self.seat_number = seat_number\n",
    "        self.price = price\n",
    "        self.is_reserved = is_reserved\n",
    "        \n",
    "    def reserve_ticket(self,is_reserved):\n",
    "        if self.is_reserved == False:\n",
    "            print(\"you can book the tickets...\")\n",
    "        else:\n",
    "            print(\"Tickets are reserved...Try later\")\n",
    "            \n",
    "    def cancel_reservation(self,is_reserved):\n",
    "        if self.is_reserved == True:\n",
    "            print(f\"cancel the reservation for this '{self.ticket_id}' ticket_id\")\n",
    "                  \n",
    "    def dispaly_ticket_info(self):\n",
    "        print(f\"Train ticket_id is: '{self.ticket_id}'\")\n",
    "        print(f\"event_name: '{self.event_name}'\")\n",
    "        print(f\"event_date: '{self.event_date}'\")\n",
    "        print(f\"venue : '{self.venue}'\")\n",
    "        print(f\"seat_number : '{self.seat_number}'\")\n",
    "        print(f\"price : {self.price}\")\n",
    "        print(f\"Is,ticket reserved : {self.is_reserved}\")\n",
    "        \n",
    "ticket1 = Ticket(16089,'Summer vacation','12/07/2023','Chennai',23,200,True)\n",
    "ticket1.reserve_ticket(True)\n",
    "ticket1.cancel_reservation(True)\n",
    "ticket1.dispaly_ticket_info()       "
   ]
  },
  {
   "cell_type": "code",
   "execution_count": 11,
   "id": "d6d27a18",
   "metadata": {},
   "outputs": [
    {
     "name": "stdout",
     "output_type": "stream",
     "text": [
      "The items in list is '['oil', 'paste', 'powder', 'soap', 'dishwash', 'shampoo', 'water bottle']'\n",
      "Now the items in list after adding item is : ['oil', 'paste', 'powder', 'soap', 'dishwash', 'shampoo', 'water bottle', 'pencil box']\n",
      "item 'pen' not  found in list\n",
      "Items to be removed : 'soap'\n",
      "items in cart is :\n",
      "0 oil\n",
      "1 paste\n",
      "2 powder\n",
      "3 dishwash\n",
      "4 shampoo\n",
      "5 water bottle\n",
      "6 pencil box\n",
      "Now the cart is empty ['---']\n"
     ]
    }
   ],
   "source": [
    "class shopping_cart:\n",
    "    def __init__(self,items):\n",
    "        self.items = items \n",
    "    def add_item(self,item):\n",
    "        print(f\"The items in list is '{self.items}'\")\n",
    "        self.items.append(item)\n",
    "        print(f\"Now the items in list after adding item is : {self.items}\")\n",
    "    def remove_item(self,item):\n",
    "        if item in self.items:\n",
    "            self.items.remove(item)\n",
    "            print(f\"Items to be removed : '{item}'\")\n",
    "        else:\n",
    "            print(f\"item '{item}' not  found in list\")\n",
    "       \n",
    "    def view_cart(self):\n",
    "        print(f\"items in cart is :\")\n",
    "        for items in range(len(self.items)):\n",
    "            print(items,self.items[items])\n",
    "    \n",
    "    def clear_cart(self):\n",
    "        self.items = ['---']\n",
    "        print(\"Now the cart is empty\",self.items) \n",
    "        \n",
    "cart1 = shopping_cart(['oil','paste','powder','soap','dishwash','shampoo','water bottle'])  \n",
    "cart1.items\n",
    "cart1.add_item('pencil box')\n",
    "cart1.remove_item('pen')\n",
    "cart1.remove_item('soap')\n",
    "cart1.view_cart()\n",
    "cart1.clear_cart()   "
   ]
  },
  {
   "cell_type": "code",
   "execution_count": 12,
   "id": "65e5bbf1",
   "metadata": {},
   "outputs": [
    {
     "name": "stdout",
     "output_type": "stream",
     "text": [
      "The attendance status of 'Divya' is {'12.06.2022': 'present'}'\n",
      "Divya : 12.06.2022 * present\n",
      "The average attendance record of 'Divya' is 88.25\n"
     ]
    }
   ],
   "source": [
    "# question 10\n",
    "class Student:\n",
    "    def __init__(self,name,age,grade,student_id,attendance):\n",
    "        self.name = name\n",
    "        self.age = age\n",
    "        self.grade = grade\n",
    "        self.student_id = student_id\n",
    "        self.attendance = {}\n",
    "     \n",
    "        \n",
    "    def update_attendance(self,date,status):\n",
    "        self.attendance.update({date:status})\n",
    "        print(f\"The attendance status of '{self.name}' is {self.attendance}'\")\n",
    "            \n",
    "    def get_attendance(self):\n",
    "        for k,v in self.attendance.items():\n",
    "            print(self.name,':',k,'*',v)\n",
    "            \n",
    "    \n",
    "    def get_avg_attendance(self,lst1):\n",
    "        self.lst1 = lst1\n",
    "        self.avg_attendance = sum(lst1)/len(lst1)\n",
    "        print(f\"The average attendance record of '{self.name}' is {self.avg_attendance}\")\n",
    "\n",
    "person = Student('Divya',32,'A',2311,{})\n",
    "person.update_attendance('12.06.2022','present')\n",
    "person.get_attendance()  \n",
    "person.get_avg_attendance([90,98,87,78])"
   ]
  },
  {
   "cell_type": "code",
   "execution_count": null,
   "id": "f0323b6a",
   "metadata": {},
   "outputs": [],
   "source": []
  }
 ],
 "metadata": {
  "kernelspec": {
   "display_name": "Python 3 (ipykernel)",
   "language": "python",
   "name": "python3"
  },
  "language_info": {
   "codemirror_mode": {
    "name": "ipython",
    "version": 3
   },
   "file_extension": ".py",
   "mimetype": "text/x-python",
   "name": "python",
   "nbconvert_exporter": "python",
   "pygments_lexer": "ipython3",
   "version": "3.10.9"
  }
 },
 "nbformat": 4,
 "nbformat_minor": 5
}
